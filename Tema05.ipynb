{
  "nbformat": 4,
  "nbformat_minor": 0,
  "metadata": {
    "colab": {
      "provenance": [],
      "include_colab_link": true
    },
    "kernelspec": {
      "name": "python3",
      "display_name": "Python 3"
    }
  },
  "cells": [
    {
      "cell_type": "markdown",
      "metadata": {
        "id": "view-in-github",
        "colab_type": "text"
      },
      "source": [
        "<a href=\"https://colab.research.google.com/github/IGprojects/Apuntes-Python/blob/main/Tema05.ipynb\" target=\"_parent\"><img src=\"https://colab.research.google.com/assets/colab-badge.svg\" alt=\"Open In Colab\"/></a>"
      ]
    },
    {
      "cell_type": "markdown",
      "metadata": {
        "id": "DNWW648JpBZM"
      },
      "source": [
        "# Operadores de iteración"
      ]
    },
    {
      "cell_type": "markdown",
      "metadata": {
        "id": "BdmMeTHJpD_d"
      },
      "source": [
        "## El bucle `while`\n",
        "\n",
        "La idea del bucle `while` es: mientras la condición sea cierta, seguimos realizando las líneas del interior del bucle. Una vez la condición deja de ser verdadera, salimos del bucle.\n",
        "\n",
        "Su estructura es la siguiente"
      ]
    },
    {
      "cell_type": "code",
      "metadata": {
        "id": "D4Oz2wqpo-Bi"
      },
      "source": [
        "inicialización de la variable de la condición\n",
        "while condición verdadera:\n",
        "  instrucción 1\n",
        "  instrucción 2\n",
        "  .\n",
        "  .\n",
        "  .\n",
        "  instrucción n"
      ],
      "execution_count": null,
      "outputs": []
    },
    {
      "cell_type": "markdown",
      "metadata": {
        "id": "FGKPoOn2tInA"
      },
      "source": [
        "**Observación.** Vuelven a aparecer tanto los dos puntos después de la condición como la indentación previa a las instrucciones que se encuentran dentro del bucle.\n",
        "\n",
        "**¡Cuidado!** Hay que tener en cuenta que alguna de las instrucciones que se encuentran dentro del bucle `while` tiene que modificar a la variable de la condición. De lo contrario, si la variable de la condición nunca es modificada, la condición nunca llegará a ser falsa y el bucle no acabaría nunca, con lo que pasaría a convertirse en lo que se denomina bucle infinito.\n",
        "\n",
        "Una de las utilidades de un bucle `while` es evitar el copia y pega de algunas funciones. Por ejemplo, si queremos impirmir los primeros 10 números naturales, en vez de copiar 10 veces la función `print()`, una para cada número, lo podemos hacer todo con un bucle `while`:"
      ]
    },
    {
      "cell_type": "code",
      "metadata": {
        "id": "XZ3xpUkdtQiI",
        "colab": {
          "base_uri": "https://localhost:8080/"
        },
        "outputId": "2809a0a2-08af-47cc-de97-08b00cfb7e8f"
      },
      "source": [
        "i = 1 # Inicializamos la variable\n",
        "while i <= 10: # Queremos que i como mucho valga 10\n",
        "  print(i) # Imprimimos los números\n",
        "  i += 1 # Incrementamos una unidad en cada iteración"
      ],
      "execution_count": null,
      "outputs": [
        {
          "output_type": "stream",
          "text": [
            "1\n",
            "2\n",
            "3\n",
            "4\n",
            "5\n",
            "6\n",
            "7\n",
            "8\n",
            "9\n",
            "10\n"
          ],
          "name": "stdout"
        }
      ]
    },
    {
      "cell_type": "markdown",
      "metadata": {
        "id": "olI-tFdMtqi4"
      },
      "source": [
        "### Comando `break`\n",
        "\n",
        "`break` es muy útil si dada una condición queremos que se salga inmediatamente de un bucle `while`. Veámoslo con un ejemplo:\n",
        "\n",
        "\n"
      ]
    },
    {
      "cell_type": "markdown",
      "metadata": {
        "id": "WiRy4iHQEBXf"
      },
      "source": [
        "---\n",
        "\n",
        "#### Ejemplo 1\n",
        "\n",
        "La sucesión de Fibonacci es una sucesión infinita que se caracteriza porque cada término es la suma de los dos anteriores. Algunos de sus términos son 1, 1, 2, 3, 5, 8, 13...\n",
        "\n",
        "Supongamos que queremos que se nos impriman los 20 primeros términos de esta serie. Por tanto, necesitaremos por un lado los términos de la serie y, por otro, los índices que ocupan.\n",
        "\n",
        "**Ejercicio.** Pensad en cómo podríais resolver este problema en el cual se exige que en algún momento utilicéis el comando `break`."
      ]
    },
    {
      "cell_type": "code",
      "metadata": {
        "id": "7B64OKePufqd",
        "colab": {
          "base_uri": "https://localhost:8080/"
        },
        "outputId": "1d8b99bd-3a84-4b3b-ac40-fbeed1182cf1"
      },
      "source": [
        "fibo_ant = 1 # Término anterior\n",
        "fibo = 1 # Término actual\n",
        "idx = 3 # Como ya tenemos los dos primeros términos, empezamos con el índice 3\n",
        "\n",
        "print(\"El término {} ocupa la posición {}\".format(fibo_ant, 1))\n",
        "print(\"El término {} ocupa la posición {}\".format(fibo, 2))\n",
        "\n",
        "while fibo <= 500000: # Establecemos una cota para que el bucle no sea infinito\n",
        "  temp = fibo  # Guardamos temporalmente el fibonacci actual \n",
        "  fibo = fibo + fibo_ant  # Calculamos el nuevo término de la sucesión\n",
        "  fibo_ant = temp # Modicamos el valor del término anterior\n",
        "  \n",
        "  print(\"El término {} ocupa la posición {}\".format(fibo, idx))\n",
        "  \n",
        "  if idx == 20: # Si llegamos al vigésimo índice, \n",
        "    break       # salimos del bucle\n",
        "  \n",
        "  idx += 1 # Incrementamos el valor del índice"
      ],
      "execution_count": null,
      "outputs": [
        {
          "output_type": "stream",
          "text": [
            "El término 1 ocupa la posición 1\n",
            "El término 1 ocupa la posición 2\n",
            "El término 2 ocupa la posición 3\n",
            "El término 3 ocupa la posición 4\n",
            "El término 5 ocupa la posición 5\n",
            "El término 8 ocupa la posición 6\n",
            "El término 13 ocupa la posición 7\n",
            "El término 21 ocupa la posición 8\n",
            "El término 34 ocupa la posición 9\n",
            "El término 55 ocupa la posición 10\n",
            "El término 89 ocupa la posición 11\n",
            "El término 144 ocupa la posición 12\n",
            "El término 233 ocupa la posición 13\n",
            "El término 377 ocupa la posición 14\n",
            "El término 610 ocupa la posición 15\n",
            "El término 987 ocupa la posición 16\n",
            "El término 1597 ocupa la posición 17\n",
            "El término 2584 ocupa la posición 18\n",
            "El término 4181 ocupa la posición 19\n",
            "El término 6765 ocupa la posición 20\n"
          ],
          "name": "stdout"
        }
      ]
    },
    {
      "cell_type": "markdown",
      "metadata": {
        "id": "0WJ31N5ou5V7"
      },
      "source": [
        "**Ejercicio.** El ejemplo anterior se podría haber hecho perfectamente sin necesidad de utilizar la función `break`. Pensad en cómo modificaríais el código anterior para obtener el mismo resultado únicamente haciendo uso de un bucle `while`.\n",
        "\n",
        "---\n",
        "\n"
      ]
    },
    {
      "cell_type": "markdown",
      "metadata": {
        "id": "iGKR_-fjEDmM"
      },
      "source": [
        "### Combinación `while ... else`\n",
        "\n",
        "Podemos combinar un bucle `while` con el operador `else` para ejecutar un bloque de código una vez la condición del `while` haya dejado de ser verdadera."
      ]
    },
    {
      "cell_type": "code",
      "metadata": {
        "colab": {
          "base_uri": "https://localhost:8080/"
        },
        "id": "R-xActcRGgwV",
        "outputId": "bdc150e5-fa0a-4683-96d7-c4ae066ebebe"
      },
      "source": [
        "i = 10\n",
        "print(\"Preparados para despegue. Empieza la cuenta atrás.\")\n",
        "while i >= 0:\n",
        "  print(i)\n",
        "  i -= 1\n",
        "else:\n",
        "  print(\"La cuenta atrás ha finalizado.\")"
      ],
      "execution_count": null,
      "outputs": [
        {
          "output_type": "stream",
          "text": [
            "Preparados para despegue. Empieza la cuenta atrás.\n",
            "10\n",
            "9\n",
            "8\n",
            "7\n",
            "6\n",
            "5\n",
            "4\n",
            "3\n",
            "2\n",
            "1\n",
            "0\n",
            "La cuenta atrás ha finalizado.\n"
          ],
          "name": "stdout"
        }
      ]
    },
    {
      "cell_type": "markdown",
      "metadata": {
        "id": "bpgqA5xSGRCb"
      },
      "source": [
        "## Bucle `for`\n",
        "\n",
        "La idea del bucle `for` es: para todos los elementos de la clave, seguimos realizando las líneas del bucle. Una vez nos quedemos sin elementos, salimos del bucle.\n",
        "\n",
        "Su estructura es la siguiente"
      ]
    },
    {
      "cell_type": "code",
      "metadata": {
        "id": "4EPDz43OvQ6S"
      },
      "source": [
        "for clave:\n",
        "  instrucción 1\n",
        "  instrucción 2\n",
        "  .\n",
        "  .\n",
        "  .\n",
        "  instrucción n"
      ],
      "execution_count": null,
      "outputs": []
    },
    {
      "cell_type": "markdown",
      "metadata": {
        "id": "j2d3NxJF2Z_Z"
      },
      "source": [
        "**Observación.** Vuelven a aparecer tanto los dos puntos después de la clave como la indentación previa a las instrucciones que se encuentran dentro del bucle.\n",
        "\n",
        "Un ejemplo del uso de un bucle `for` es el de recorrer todos los caracteres de un string:"
      ]
    },
    {
      "cell_type": "code",
      "metadata": {
        "colab": {
          "base_uri": "https://localhost:8080/"
        },
        "id": "X3jn36ve2lUg",
        "outputId": "eff2fc8c-36ef-4918-f8b3-da3379ed11ba"
      },
      "source": [
        "s = \"Me gustan las matemáticas\"\n",
        "\n",
        "for c in s:\n",
        "  print(c)"
      ],
      "execution_count": null,
      "outputs": [
        {
          "output_type": "stream",
          "text": [
            "M\n",
            "e\n",
            " \n",
            "g\n",
            "u\n",
            "s\n",
            "t\n",
            "a\n",
            "n\n",
            " \n",
            "l\n",
            "a\n",
            "s\n",
            " \n",
            "m\n",
            "a\n",
            "t\n",
            "e\n",
            "m\n",
            "á\n",
            "t\n",
            "i\n",
            "c\n",
            "a\n",
            "s\n"
          ],
          "name": "stdout"
        }
      ]
    },
    {
      "cell_type": "markdown",
      "metadata": {
        "id": "oSYhmk6a2ua6"
      },
      "source": [
        "Lo que hace el anterior chunk de código es imprimir todos y cada uno de los caracteres, a los que identificamos por `c`, que se encuentran en el string `s`.\n",
        "\n"
      ]
    },
    {
      "cell_type": "markdown",
      "metadata": {
        "id": "P3LqrB9mEG6q"
      },
      "source": [
        "### Función `range()`\n",
        "\n",
        "La función `range()` tiene 3 posibles argumentos: \n",
        " \n",
        " - `start` \n",
        " - `stop` \n",
        " - `step`\n",
        "\n",
        "Veremos el uso de la función `range()` con un ejemplo. Recuperemos el ejemplo en que queríamos imprimir los 10 primeros números naturales:"
      ]
    },
    {
      "cell_type": "code",
      "metadata": {
        "colab": {
          "base_uri": "https://localhost:8080/"
        },
        "id": "fN50QCHx_pVO",
        "outputId": "a15b20f7-f3d0-447a-ba46-faee497a3a83"
      },
      "source": [
        "for i in range(1, 11, 1):\n",
        "  print(i)"
      ],
      "execution_count": null,
      "outputs": [
        {
          "output_type": "stream",
          "text": [
            "1\n",
            "2\n",
            "3\n",
            "4\n",
            "5\n",
            "6\n",
            "7\n",
            "8\n",
            "9\n",
            "10\n"
          ],
          "name": "stdout"
        }
      ]
    },
    {
      "cell_type": "code",
      "metadata": {
        "colab": {
          "base_uri": "https://localhost:8080/"
        },
        "id": "Jo41eBsW54D9",
        "outputId": "f7a8e7c5-6b42-433e-dfeb-1b6dea0be302"
      },
      "source": [
        "for x in range(5):\n",
        "    print(x)"
      ],
      "execution_count": null,
      "outputs": [
        {
          "output_type": "stream",
          "text": [
            "0\n",
            "1\n",
            "2\n",
            "3\n",
            "4\n"
          ],
          "name": "stdout"
        }
      ]
    },
    {
      "cell_type": "markdown",
      "metadata": {
        "id": "WY31f88E_rEJ"
      },
      "source": [
        "**Observación.** Cosas a tener en cuenta cuando usamos la función `range()`:\n",
        "\n",
        "- El elemento indicado en el argumento `stop` nunca se incluye.\n",
        "- Si no indicamos ningún elemento en el argumento `start`, por defecto éste vale 0.\n",
        "- El valor por defecto del argumento `step` es 1.\n",
        "\n",
        "\n",
        "Por lo tanto, obtendríamos el mismo resultado que en el ejemplo anterior ejecutando las siguientes líneas de código:"
      ]
    },
    {
      "cell_type": "code",
      "metadata": {
        "id": "2XQwDu2O_qSv",
        "colab": {
          "base_uri": "https://localhost:8080/"
        },
        "outputId": "3b32d51b-685f-4112-bc0c-34c4693a22eb"
      },
      "source": [
        "for i in range(1, 11):\n",
        "  print(i)"
      ],
      "execution_count": null,
      "outputs": [
        {
          "output_type": "stream",
          "text": [
            "1\n",
            "2\n",
            "3\n",
            "4\n",
            "5\n",
            "6\n",
            "7\n",
            "8\n",
            "9\n",
            "10\n"
          ],
          "name": "stdout"
        }
      ]
    },
    {
      "cell_type": "markdown",
      "metadata": {
        "id": "GR1_6iyAAJiS"
      },
      "source": [
        "¿Y si quisiéramos imprimir los 10 primeros números naturales invirtiendo el orden? Pues, con un bucle `for`, lo haríamos del siguiente modo:"
      ]
    },
    {
      "cell_type": "code",
      "metadata": {
        "id": "cOEYalenAPFv",
        "colab": {
          "base_uri": "https://localhost:8080/"
        },
        "outputId": "030f5b87-ada3-4470-9128-d21cff1693ef"
      },
      "source": [
        "for i in range(10, 0, -1):\n",
        "  print(i)"
      ],
      "execution_count": null,
      "outputs": [
        {
          "output_type": "stream",
          "text": [
            "10\n",
            "9\n",
            "8\n",
            "7\n",
            "6\n",
            "5\n",
            "4\n",
            "3\n",
            "2\n",
            "1\n"
          ],
          "name": "stdout"
        }
      ]
    },
    {
      "cell_type": "markdown",
      "metadata": {
        "id": "XcgdX9yQARKu"
      },
      "source": [
        "### Comando `continue`\n",
        "\n",
        "El comando `continue` es similar a `break`, pero en vez de salir del bucle, lo que hace es interrumpir la iteración en la que se encuentra y empezar la siguiente iteración.\n",
        "\n"
      ]
    },
    {
      "cell_type": "markdown",
      "metadata": {
        "id": "R6H4Kj04EJjT"
      },
      "source": [
        "---\n",
        "#### Ejemplo 2\n",
        "\n",
        "Supongamos que queremos que se nos impriman todos los números entre 0 y 100 que no son ni divisibles entre 2 ni entre 5.\n",
        "\n",
        "**Ejercicio.** Pensad cómo podríais resolver este problema en el cual se exige que en algún momento utilicéis el comando `continue`."
      ]
    },
    {
      "cell_type": "code",
      "metadata": {
        "id": "KNI5JmiAAZGy",
        "colab": {
          "base_uri": "https://localhost:8080/"
        },
        "outputId": "868ed561-cba0-477a-cb94-96e9bcb0d623"
      },
      "source": [
        "for i in range(101):\n",
        "  if i % 2 == 0 or i % 5 == 0:\n",
        "    continue\n",
        "  print(i)"
      ],
      "execution_count": null,
      "outputs": [
        {
          "output_type": "stream",
          "text": [
            "1\n",
            "3\n",
            "7\n",
            "9\n",
            "11\n",
            "13\n",
            "17\n",
            "19\n",
            "21\n",
            "23\n",
            "27\n",
            "29\n",
            "31\n",
            "33\n",
            "37\n",
            "39\n",
            "41\n",
            "43\n",
            "47\n",
            "49\n",
            "51\n",
            "53\n",
            "57\n",
            "59\n",
            "61\n",
            "63\n",
            "67\n",
            "69\n",
            "71\n",
            "73\n",
            "77\n",
            "79\n",
            "81\n",
            "83\n",
            "87\n",
            "89\n",
            "91\n",
            "93\n",
            "97\n",
            "99\n"
          ],
          "name": "stdout"
        }
      ]
    },
    {
      "cell_type": "markdown",
      "metadata": {
        "id": "xjXgA5BbAwUs"
      },
      "source": [
        "---\n",
        "\n"
      ]
    },
    {
      "cell_type": "markdown",
      "metadata": {
        "id": "7bHfvIT7ELh8"
      },
      "source": [
        "## Bucles anidados\n",
        "\n",
        "Se trata de bucles dentro de bucles\n",
        "\n"
      ]
    },
    {
      "cell_type": "markdown",
      "metadata": {
        "id": "KjH93D5PENCL"
      },
      "source": [
        "---\n",
        "\n",
        "#### Ejemplo 3\n",
        "\n",
        "Vamos a calcular las tablas de multiplicar de los números del 1 al 10 anidando dos bucles `for`:"
      ]
    },
    {
      "cell_type": "code",
      "metadata": {
        "colab": {
          "base_uri": "https://localhost:8080/"
        },
        "id": "m9K1Gz3RA0OQ",
        "outputId": "7085b9c7-8178-4331-f718-84edb4f3957d"
      },
      "source": [
        "for i in range(1, 11):\n",
        "  print(\"\\nTabla de multiplicar del {}\".format(i))\n",
        "  for j in range(1, 21):\n",
        "    print(\"{} x {} = {}\".format(i, j, i * j))"
      ],
      "execution_count": null,
      "outputs": [
        {
          "output_type": "stream",
          "text": [
            "\n",
            "Tabla de multiplicar del 1\n",
            "1 x 1 = 1\n",
            "1 x 2 = 2\n",
            "1 x 3 = 3\n",
            "1 x 4 = 4\n",
            "1 x 5 = 5\n",
            "1 x 6 = 6\n",
            "1 x 7 = 7\n",
            "1 x 8 = 8\n",
            "1 x 9 = 9\n",
            "1 x 10 = 10\n",
            "1 x 11 = 11\n",
            "1 x 12 = 12\n",
            "1 x 13 = 13\n",
            "1 x 14 = 14\n",
            "1 x 15 = 15\n",
            "1 x 16 = 16\n",
            "1 x 17 = 17\n",
            "1 x 18 = 18\n",
            "1 x 19 = 19\n",
            "1 x 20 = 20\n",
            "\n",
            "Tabla de multiplicar del 2\n",
            "2 x 1 = 2\n",
            "2 x 2 = 4\n",
            "2 x 3 = 6\n",
            "2 x 4 = 8\n",
            "2 x 5 = 10\n",
            "2 x 6 = 12\n",
            "2 x 7 = 14\n",
            "2 x 8 = 16\n",
            "2 x 9 = 18\n",
            "2 x 10 = 20\n",
            "2 x 11 = 22\n",
            "2 x 12 = 24\n",
            "2 x 13 = 26\n",
            "2 x 14 = 28\n",
            "2 x 15 = 30\n",
            "2 x 16 = 32\n",
            "2 x 17 = 34\n",
            "2 x 18 = 36\n",
            "2 x 19 = 38\n",
            "2 x 20 = 40\n",
            "\n",
            "Tabla de multiplicar del 3\n",
            "3 x 1 = 3\n",
            "3 x 2 = 6\n",
            "3 x 3 = 9\n",
            "3 x 4 = 12\n",
            "3 x 5 = 15\n",
            "3 x 6 = 18\n",
            "3 x 7 = 21\n",
            "3 x 8 = 24\n",
            "3 x 9 = 27\n",
            "3 x 10 = 30\n",
            "3 x 11 = 33\n",
            "3 x 12 = 36\n",
            "3 x 13 = 39\n",
            "3 x 14 = 42\n",
            "3 x 15 = 45\n",
            "3 x 16 = 48\n",
            "3 x 17 = 51\n",
            "3 x 18 = 54\n",
            "3 x 19 = 57\n",
            "3 x 20 = 60\n",
            "\n",
            "Tabla de multiplicar del 4\n",
            "4 x 1 = 4\n",
            "4 x 2 = 8\n",
            "4 x 3 = 12\n",
            "4 x 4 = 16\n",
            "4 x 5 = 20\n",
            "4 x 6 = 24\n",
            "4 x 7 = 28\n",
            "4 x 8 = 32\n",
            "4 x 9 = 36\n",
            "4 x 10 = 40\n",
            "4 x 11 = 44\n",
            "4 x 12 = 48\n",
            "4 x 13 = 52\n",
            "4 x 14 = 56\n",
            "4 x 15 = 60\n",
            "4 x 16 = 64\n",
            "4 x 17 = 68\n",
            "4 x 18 = 72\n",
            "4 x 19 = 76\n",
            "4 x 20 = 80\n",
            "\n",
            "Tabla de multiplicar del 5\n",
            "5 x 1 = 5\n",
            "5 x 2 = 10\n",
            "5 x 3 = 15\n",
            "5 x 4 = 20\n",
            "5 x 5 = 25\n",
            "5 x 6 = 30\n",
            "5 x 7 = 35\n",
            "5 x 8 = 40\n",
            "5 x 9 = 45\n",
            "5 x 10 = 50\n",
            "5 x 11 = 55\n",
            "5 x 12 = 60\n",
            "5 x 13 = 65\n",
            "5 x 14 = 70\n",
            "5 x 15 = 75\n",
            "5 x 16 = 80\n",
            "5 x 17 = 85\n",
            "5 x 18 = 90\n",
            "5 x 19 = 95\n",
            "5 x 20 = 100\n",
            "\n",
            "Tabla de multiplicar del 6\n",
            "6 x 1 = 6\n",
            "6 x 2 = 12\n",
            "6 x 3 = 18\n",
            "6 x 4 = 24\n",
            "6 x 5 = 30\n",
            "6 x 6 = 36\n",
            "6 x 7 = 42\n",
            "6 x 8 = 48\n",
            "6 x 9 = 54\n",
            "6 x 10 = 60\n",
            "6 x 11 = 66\n",
            "6 x 12 = 72\n",
            "6 x 13 = 78\n",
            "6 x 14 = 84\n",
            "6 x 15 = 90\n",
            "6 x 16 = 96\n",
            "6 x 17 = 102\n",
            "6 x 18 = 108\n",
            "6 x 19 = 114\n",
            "6 x 20 = 120\n",
            "\n",
            "Tabla de multiplicar del 7\n",
            "7 x 1 = 7\n",
            "7 x 2 = 14\n",
            "7 x 3 = 21\n",
            "7 x 4 = 28\n",
            "7 x 5 = 35\n",
            "7 x 6 = 42\n",
            "7 x 7 = 49\n",
            "7 x 8 = 56\n",
            "7 x 9 = 63\n",
            "7 x 10 = 70\n",
            "7 x 11 = 77\n",
            "7 x 12 = 84\n",
            "7 x 13 = 91\n",
            "7 x 14 = 98\n",
            "7 x 15 = 105\n",
            "7 x 16 = 112\n",
            "7 x 17 = 119\n",
            "7 x 18 = 126\n",
            "7 x 19 = 133\n",
            "7 x 20 = 140\n",
            "\n",
            "Tabla de multiplicar del 8\n",
            "8 x 1 = 8\n",
            "8 x 2 = 16\n",
            "8 x 3 = 24\n",
            "8 x 4 = 32\n",
            "8 x 5 = 40\n",
            "8 x 6 = 48\n",
            "8 x 7 = 56\n",
            "8 x 8 = 64\n",
            "8 x 9 = 72\n",
            "8 x 10 = 80\n",
            "8 x 11 = 88\n",
            "8 x 12 = 96\n",
            "8 x 13 = 104\n",
            "8 x 14 = 112\n",
            "8 x 15 = 120\n",
            "8 x 16 = 128\n",
            "8 x 17 = 136\n",
            "8 x 18 = 144\n",
            "8 x 19 = 152\n",
            "8 x 20 = 160\n",
            "\n",
            "Tabla de multiplicar del 9\n",
            "9 x 1 = 9\n",
            "9 x 2 = 18\n",
            "9 x 3 = 27\n",
            "9 x 4 = 36\n",
            "9 x 5 = 45\n",
            "9 x 6 = 54\n",
            "9 x 7 = 63\n",
            "9 x 8 = 72\n",
            "9 x 9 = 81\n",
            "9 x 10 = 90\n",
            "9 x 11 = 99\n",
            "9 x 12 = 108\n",
            "9 x 13 = 117\n",
            "9 x 14 = 126\n",
            "9 x 15 = 135\n",
            "9 x 16 = 144\n",
            "9 x 17 = 153\n",
            "9 x 18 = 162\n",
            "9 x 19 = 171\n",
            "9 x 20 = 180\n",
            "\n",
            "Tabla de multiplicar del 10\n",
            "10 x 1 = 10\n",
            "10 x 2 = 20\n",
            "10 x 3 = 30\n",
            "10 x 4 = 40\n",
            "10 x 5 = 50\n",
            "10 x 6 = 60\n",
            "10 x 7 = 70\n",
            "10 x 8 = 80\n",
            "10 x 9 = 90\n",
            "10 x 10 = 100\n",
            "10 x 11 = 110\n",
            "10 x 12 = 120\n",
            "10 x 13 = 130\n",
            "10 x 14 = 140\n",
            "10 x 15 = 150\n",
            "10 x 16 = 160\n",
            "10 x 17 = 170\n",
            "10 x 18 = 180\n",
            "10 x 19 = 190\n",
            "10 x 20 = 200\n"
          ],
          "name": "stdout"
        }
      ]
    },
    {
      "cell_type": "markdown",
      "metadata": {
        "id": "kCcrXPbnGCHT"
      },
      "source": [
        "---\n",
        "\n"
      ]
    }
  ]
}